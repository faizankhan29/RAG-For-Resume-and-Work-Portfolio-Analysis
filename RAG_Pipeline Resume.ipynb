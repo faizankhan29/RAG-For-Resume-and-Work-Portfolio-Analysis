{
 "cells": [
  {
   "attachments": {},
   "cell_type": "markdown",
   "metadata": {},
   "source": [
    "# Retrievel Augmented Generation (RAG) For Resume and Work Portfolio Analysis\n",
    "\n",
    "This project is aimed at creating a Retrieval Augmented (RAG) pipeline to enable users to ask questions from my Resume and Work Portfolio.\n",
    "\n",
    "In this notebook, we will follow three approaches to implement Retrieval Augmented Generation (RAG):\n",
    "1. Basic RAG Pipeline:\n",
    "    - Basic Indexing of Documents using LlamaIndex.\n",
    "    - Querying from the Created Index.\n",
    "2. Advanced RAG Pipeline - Sentence Window Retrieval:\n",
    "    - Creating Sentence Window Based Index (Breaks down documents into smaller chunks like sentences).\n",
    "    - Querying most relevant chunks along with surrounding context.\n",
    "\n",
    "3. Advanced RAG Pipeline - Auto-merging retrieval:\n",
    "    - Creating Automerging Retrieval Based Index.\n",
    "    - Querying using auto-merging retrieval which merges information from multiple sources or segments of text to create a more comprehensive and contextually relevant response to a query"
   ]
  },
  {
   "attachments": {},
   "cell_type": "markdown",
   "metadata": {},
   "source": [
    "## Basic RAG Pipeline"
   ]
  },
  {
   "cell_type": "code",
   "execution_count": 23,
   "metadata": {},
   "outputs": [],
   "source": [
    "# Setting environment and importing required dependencies.\n",
    "import os\n",
    "import pandas as pd\n",
    "from llama_index import Document\n",
    "from llama_index.llms import OpenAI\n",
    "from utils import build_sentence_window_index\n",
    "from llama_index import SimpleDirectoryReader\n",
    "from llama_index import VectorStoreIndex, ServiceContext\n",
    "from local_variables import OPENAI_API_KEY, HUGGINGFACE_API_KEY\n",
    "\n",
    "os.environ['OPENAI_API_KEY'] = OPENAI_API_KEY\n",
    "os.environ['HUGGINGFACE_API_KEY'] = HUGGINGFACE_API_KEY"
   ]
  },
  {
   "cell_type": "code",
   "execution_count": 24,
   "metadata": {},
   "outputs": [],
   "source": [
    "# Importing Resume and Work Portfolio files.\n",
    "documents = SimpleDirectoryReader(\n",
    "    input_files=[\"./FAIZAN KHAN Resume NLP.pdf\",\"./Faizan Work Corpus.pdf\"]\n",
    ").load_data()"
   ]
  },
  {
   "cell_type": "code",
   "execution_count": 25,
   "metadata": {},
   "outputs": [],
   "source": [
    "document = Document(text=\"\\n\\n\".join([doc.text for doc in documents]))"
   ]
  },
  {
   "cell_type": "code",
   "execution_count": 26,
   "metadata": {},
   "outputs": [],
   "source": [
    "# Creating a Vector Store from the input documents.\n",
    "llm_openai = OpenAI(model=\"gpt-3.5-turbo\", temperature=0.1)\n",
    "service_context = ServiceContext.from_defaults(llm=llm_openai, embed_model=\"local:BAAI/bge-small-en-v1.5\")\n",
    "index = VectorStoreIndex.from_documents([document],service_context=service_context)"
   ]
  },
  {
   "cell_type": "code",
   "execution_count": 27,
   "metadata": {},
   "outputs": [],
   "source": [
    "# Querying from the Vector Store created.\n",
    "query_engine = index.as_query_engine()"
   ]
  },
  {
   "cell_type": "code",
   "execution_count": 28,
   "metadata": {},
   "outputs": [],
   "source": [
    "response = query_engine.query(\n",
    "    \"Where did Faizan Khan study?\"\n",
    ")"
   ]
  },
  {
   "cell_type": "code",
   "execution_count": 29,
   "metadata": {},
   "outputs": [
    {
     "name": "stdout",
     "output_type": "stream",
     "text": [
      "Faizan Khan studied at Carnegie Mellon University (CMU) in Pittsburgh, PA and Vellore Institute of Technology (VIT) in Vellore, India.\n"
     ]
    }
   ],
   "source": [
    "print(str(response))"
   ]
  },
  {
   "attachments": {},
   "cell_type": "markdown",
   "metadata": {},
   "source": [
    "## Evaluation setup"
   ]
  },
  {
   "cell_type": "code",
   "execution_count": 30,
   "metadata": {},
   "outputs": [
    {
     "name": "stdout",
     "output_type": "stream",
     "text": [
      "What work did Faizan do at Finetune Learning?\n",
      "What were the important courses Faizan did at Carnegie Mellon University(CMU)?\n",
      "What are Faizan's top 5 skills?\n",
      "Rate Faizan's Natural Language Processing experience on a scale of 1-10.\n",
      "Does Faizan have any experience coding Deep Learning architectures from scratch?\n",
      "What is Faizan's most impressive project?\n",
      "Does Faizan have any experience in Search? If so, summarize his experience.\n",
      "What is the right AI job for Faizan?\n"
     ]
    }
   ],
   "source": [
    "# Importing custom questions from a questions file.\n",
    "eval_questions = []\n",
    "with open('eval_questions.txt', 'r') as file:\n",
    "    for line in file:\n",
    "        item = line.strip()\n",
    "        print(item)\n",
    "        eval_questions.append(item)"
   ]
  },
  {
   "cell_type": "code",
   "execution_count": 31,
   "metadata": {},
   "outputs": [],
   "source": [
    "all_responses = []\n",
    "for question in eval_questions:\n",
    "    response = query_engine.query(question)\n",
    "    all_responses.append(response)"
   ]
  },
  {
   "cell_type": "code",
   "execution_count": 32,
   "metadata": {},
   "outputs": [],
   "source": [
    "# Creating an output dataframe.\n",
    "responses_df = pd.DataFrame({\"Sample_Questions\":eval_questions, \"Model_Responses_Basic\":all_responses})"
   ]
  },
  {
   "cell_type": "code",
   "execution_count": 33,
   "metadata": {},
   "outputs": [
    {
     "data": {
      "text/html": [
       "<div>\n",
       "<style scoped>\n",
       "    .dataframe tbody tr th:only-of-type {\n",
       "        vertical-align: middle;\n",
       "    }\n",
       "\n",
       "    .dataframe tbody tr th {\n",
       "        vertical-align: top;\n",
       "    }\n",
       "\n",
       "    .dataframe thead th {\n",
       "        text-align: right;\n",
       "    }\n",
       "</style>\n",
       "<table border=\"1\" class=\"dataframe\">\n",
       "  <thead>\n",
       "    <tr style=\"text-align: right;\">\n",
       "      <th></th>\n",
       "      <th>Sample_Questions</th>\n",
       "      <th>Model_Responses_Basic</th>\n",
       "    </tr>\n",
       "  </thead>\n",
       "  <tbody>\n",
       "    <tr>\n",
       "      <th>0</th>\n",
       "      <td>What work did Faizan do at Finetune Learning?</td>\n",
       "      <td>Faizan Khan worked as an AI &amp; ML Applied Scien...</td>\n",
       "    </tr>\n",
       "    <tr>\n",
       "      <th>1</th>\n",
       "      <td>What were the important courses Faizan did at ...</td>\n",
       "      <td>Faizan Khan completed the following important ...</td>\n",
       "    </tr>\n",
       "    <tr>\n",
       "      <th>2</th>\n",
       "      <td>What are Faizan's top 5 skills?</td>\n",
       "      <td>Faizan's top 5 skills are Natural Language Pro...</td>\n",
       "    </tr>\n",
       "    <tr>\n",
       "      <th>3</th>\n",
       "      <td>Rate Faizan's Natural Language Processing expe...</td>\n",
       "      <td>Faizan's Natural Language Processing experienc...</td>\n",
       "    </tr>\n",
       "    <tr>\n",
       "      <th>4</th>\n",
       "      <td>Does Faizan have any experience coding Deep Le...</td>\n",
       "      <td>Yes, Faizan has experience coding Deep Learnin...</td>\n",
       "    </tr>\n",
       "    <tr>\n",
       "      <th>5</th>\n",
       "      <td>What is Faizan's most impressive project?</td>\n",
       "      <td>Faizan's most impressive project is the develo...</td>\n",
       "    </tr>\n",
       "    <tr>\n",
       "      <th>6</th>\n",
       "      <td>Does Faizan have any experience in Search? If ...</td>\n",
       "      <td>Faizan Khan has experience in search. He has i...</td>\n",
       "    </tr>\n",
       "    <tr>\n",
       "      <th>7</th>\n",
       "      <td>What is the right AI job for Faizan?</td>\n",
       "      <td>Based on the context information provided, the...</td>\n",
       "    </tr>\n",
       "  </tbody>\n",
       "</table>\n",
       "</div>"
      ],
      "text/plain": [
       "                                    Sample_Questions  \\\n",
       "0      What work did Faizan do at Finetune Learning?   \n",
       "1  What were the important courses Faizan did at ...   \n",
       "2                    What are Faizan's top 5 skills?   \n",
       "3  Rate Faizan's Natural Language Processing expe...   \n",
       "4  Does Faizan have any experience coding Deep Le...   \n",
       "5          What is Faizan's most impressive project?   \n",
       "6  Does Faizan have any experience in Search? If ...   \n",
       "7               What is the right AI job for Faizan?   \n",
       "\n",
       "                               Model_Responses_Basic  \n",
       "0  Faizan Khan worked as an AI & ML Applied Scien...  \n",
       "1  Faizan Khan completed the following important ...  \n",
       "2  Faizan's top 5 skills are Natural Language Pro...  \n",
       "3  Faizan's Natural Language Processing experienc...  \n",
       "4  Yes, Faizan has experience coding Deep Learnin...  \n",
       "5  Faizan's most impressive project is the develo...  \n",
       "6  Faizan Khan has experience in search. He has i...  \n",
       "7  Based on the context information provided, the...  "
      ]
     },
     "execution_count": 33,
     "metadata": {},
     "output_type": "execute_result"
    }
   ],
   "source": [
    "responses_df"
   ]
  },
  {
   "cell_type": "markdown",
   "metadata": {},
   "source": [
    "# Advanced RAG Pipeline"
   ]
  },
  {
   "attachments": {},
   "cell_type": "markdown",
   "metadata": {},
   "source": [
    "### Sentence Window Retrieval"
   ]
  },
  {
   "cell_type": "code",
   "execution_count": 34,
   "metadata": {},
   "outputs": [],
   "source": [
    "# Building a Sentence Window Based Index.\n",
    "sentence_index = build_sentence_window_index(\n",
    "    document,\n",
    "    llm_openai,\n",
    "    embed_model=\"local:BAAI/bge-small-en-v1.5\",\n",
    "    save_dir=\"sentence_index\"\n",
    ")"
   ]
  },
  {
   "cell_type": "code",
   "execution_count": 35,
   "metadata": {},
   "outputs": [],
   "source": [
    "from utils import get_sentence_window_query_engine\n",
    "\n",
    "sentence_window_engine = get_sentence_window_query_engine(sentence_index)"
   ]
  },
  {
   "cell_type": "code",
   "execution_count": 36,
   "metadata": {},
   "outputs": [
    {
     "name": "stdout",
     "output_type": "stream",
     "text": [
      "You can contact Faizan Khan through his email address at faizankh29@gmail.com or by phone at (412) -419-4560. Additionally, you can connect with him on LinkedIn at www.linkedin.com/in/faizan-khan-nlp.\n"
     ]
    }
   ],
   "source": [
    "# Querying the sentence window based engine.\n",
    "window_response = sentence_window_engine.query(\n",
    "    \"How do I contact Faizan?\"\n",
    ")\n",
    "print(str(window_response))"
   ]
  },
  {
   "cell_type": "code",
   "execution_count": 37,
   "metadata": {},
   "outputs": [
    {
     "name": "stdout",
     "output_type": "stream",
     "text": [
      "What work did Faizan do at Finetune Learning?\n",
      "Faizan Khan worked as an AI & ML Applied Scientist at Finetune Learning. In this role, he implemented machine-learned models for understanding queries and ranking search results. He also innovated in prompt engineering by leveraging GPT-3.5 and GPT-4 models. Additionally, Faizan led the innovation and implementation of a Chain-of-Thought (CoT) strategy, enhancing the system's capability to tag and score questions efficiently. He worked closely with Subject Matter Experts and technical teams to achieve an EM of 78% and F1 of 85%.\n",
      "What were the important courses Faizan did at Carnegie Mellon University(CMU)?\n",
      "Faizan Khan took the following important courses at Carnegie Mellon University (CMU): Introduction to Deep Learning, Question Answering, Advanced Natural Language Processing, and Data Mining.\n",
      "What are Faizan's top 5 skills?\n",
      "Faizan's top 5 skills are Natural Language Processing, Machine Learning, Deep Learning, Image Processing, and Audio Processing.\n",
      "Rate Faizan's Natural Language Processing experience on a scale of 1-10.\n",
      "Faizan's Natural Language Processing experience can be rated as advanced, based on the specialized courses he has taken and his professional experience as an AI & ML Applied Scientist. However, without specific information about the depth and breadth of his experience in Natural Language Processing, it is difficult to provide an exact rating on a scale of 1-10.\n",
      "Does Faizan have any experience coding Deep Learning architectures from scratch?\n",
      "Yes, Faizan has experience coding Deep Learning architectures from scratch.\n",
      "What is Faizan's most impressive project?\n",
      "Faizan's most impressive project is the implementation of machine-learned models for understanding queries and ranking search results, resulting in saving $150,000 annually and increasing efficiency in generating detailed questions for competitive exams.\n",
      "Does Faizan have any experience in Search? If so, summarize his experience.\n",
      "Yes, Faizan Khan has experience in search. He has implemented machine-learned models for understanding queries and ranking search results, resulting in saving $150,000 annually and increasing efficiency in generating detailed questions for competitive exams. He has also innovated in prompt engineering by leveraging GPT-3.5 and GPT-4 models. Additionally, Faizan has led the innovation and implementation of a Chain-of-Thought (CoT) strategy, enhancing the system's capability to tag and score questions efficiently, working closely with Subject Matter Experts and technical teams.\n",
      "What is the right AI job for Faizan?\n",
      "The right AI job for Faizan would be a position that allows him to utilize his expertise in natural language processing (NLP) and machine learning (ML). He has experience in implementing machine-learned models for understanding queries and ranking search results, as well as working on projects in text summarization, information retrieval, question generation, NLU, and prompt engineering. Additionally, Faizan has experience in developing conversational AI systems and has worked on projects involving speech classification. Therefore, a suitable AI job for Faizan would be one that involves NLP, ML, and AI technologies, such as a role as an AI Engineer, NLP Engineer, or ML Scientist.\n"
     ]
    }
   ],
   "source": [
    "# Recording responses for all questions.\n",
    "all_responses_sentence_window = []\n",
    "for question in eval_questions:\n",
    "    response = sentence_window_engine.query(question)\n",
    "    all_responses_sentence_window.append(response)\n",
    "    print(question)\n",
    "    print(str(response))"
   ]
  },
  {
   "cell_type": "code",
   "execution_count": 38,
   "metadata": {},
   "outputs": [],
   "source": [
    "responses_df = pd.DataFrame({\"Sample_Questions\":eval_questions,\"Model_Responses_Basic\":all_responses, \"Model_Responses_Sentence_Window\":all_responses_sentence_window})"
   ]
  },
  {
   "attachments": {},
   "cell_type": "markdown",
   "metadata": {},
   "source": [
    "### Auto-Merging Retrieval"
   ]
  },
  {
   "cell_type": "code",
   "execution_count": 39,
   "metadata": {},
   "outputs": [],
   "source": [
    "# Building an Auto-Merging Index\n",
    "from utils import build_automerging_index\n",
    "\n",
    "automerging_index = build_automerging_index(\n",
    "    documents,\n",
    "    llm_openai,\n",
    "    embed_model=\"local:BAAI/bge-small-en-v1.5\",\n",
    "    save_dir=\"merging_index\"\n",
    ")"
   ]
  },
  {
   "cell_type": "code",
   "execution_count": 40,
   "metadata": {},
   "outputs": [],
   "source": [
    "from utils import get_automerging_query_engine\n",
    "\n",
    "automerging_query_engine = get_automerging_query_engine(\n",
    "    automerging_index,\n",
    ")"
   ]
  },
  {
   "cell_type": "code",
   "execution_count": 41,
   "metadata": {},
   "outputs": [
    {
     "name": "stdout",
     "output_type": "stream",
     "text": [
      "> Merging 3 nodes into parent node.\n",
      "> Parent node id: 97765485-74d9-4142-87ff-ad00a0c603f2.\n",
      "> Parent node text: ●\n",
      "Implemented\n",
      "(from\n",
      "scratch)\n",
      "a\n",
      "topic\n",
      "modeling\n",
      "algorithm\n",
      "for\n",
      "gaining\n",
      "personality\n",
      "insights\n",
      "from\n",
      "wri...\n",
      "\n",
      "Faizan has experience in video processing. He has developed and deployed an application that extracts prosodic features from audio and combines them with a recurrent neural network-based text summation model to produce videos that summarize the results.\n"
     ]
    }
   ],
   "source": [
    "# Querying based on auto-merging retrieval.\n",
    "auto_merging_response = automerging_query_engine.query(\n",
    "    \"Summarize Faizan's experience in Video processing.\"\n",
    ")\n",
    "print(str(auto_merging_response))"
   ]
  },
  {
   "cell_type": "code",
   "execution_count": 42,
   "metadata": {},
   "outputs": [
    {
     "name": "stdout",
     "output_type": "stream",
     "text": [
      "> Merging 2 nodes into parent node.\n",
      "> Parent node id: 405ee8b1-3cc3-4d84-ab0e-c5ee4a831df7.\n",
      "> Parent node text: Projects\n",
      "Before\n",
      "2020:\n",
      "●\n",
      "Successfully\n",
      "completed\n",
      "an\n",
      "Emotionally\n",
      "Aware\n",
      "personal\n",
      "assistant\n",
      "using\n",
      "a\n",
      "Re...\n",
      "\n",
      "> Merging 2 nodes into parent node.\n",
      "> Parent node id: 2bd59080-0ff0-40be-8cf6-028e69652819.\n",
      "> Parent node text: ●\n",
      "State\n",
      "level\n",
      "Chess\n",
      "player\n",
      "in\n",
      "the\n",
      "U-16\n",
      "category.\n",
      "Skills\n",
      "Technical\n",
      "Skills\n",
      ":\n",
      "Natural\n",
      "Language\n",
      "Proce...\n",
      "\n",
      "> Merging 2 nodes into parent node.\n",
      "> Parent node id: 2bd59080-0ff0-40be-8cf6-028e69652819.\n",
      "> Parent node text: ●\n",
      "State\n",
      "level\n",
      "Chess\n",
      "player\n",
      "in\n",
      "the\n",
      "U-16\n",
      "category.\n",
      "Skills\n",
      "Technical\n",
      "Skills\n",
      ":\n",
      "Natural\n",
      "Language\n",
      "Proce...\n",
      "\n",
      "> Merging 2 nodes into parent node.\n",
      "> Parent node id: 27ad8850-8f3d-4ab5-babd-337b5ec7fd25.\n",
      "> Parent node text: Surpassed the State -of-the-Art, with 97% recall.  \n",
      "SKILLS   \n",
      "Natural Language Processing:  Deep ...\n",
      "\n",
      "> Merging 2 nodes into parent node.\n",
      "> Parent node id: d805904d-8c8e-4e53-9cfa-0989486cbc63.\n",
      "> Parent node text: ●\n",
      "Contract\n",
      "and\n",
      "Invoice\n",
      "Automation(Product):\n",
      "Developed\n",
      "a\n",
      "tool\n",
      "to\n",
      "automate\n",
      "contract\n",
      "and\n",
      "invoice\n",
      "pro...\n",
      "\n",
      "> Merging 4 nodes into parent node.\n",
      "> Parent node id: 19603f2f-03ba-44b4-bae8-c75d2e75ef5f.\n",
      "> Parent node text: Faizan Khan  \n",
      "faizankh29@gmail.com   |  (412) -419-4560 |   www.linkedin.com/in/faizan -khan -nlp...\n",
      "\n",
      "> Merging 3 nodes into parent node.\n",
      "> Parent node id: 96863d69-ec36-4e22-9ef3-4fa6a2227745.\n",
      "> Parent node text: Achieved an EM of 78% & F1 of 85%.  \n",
      "• Successfully deployed optimized search engines for a large...\n",
      "\n",
      "> Merging 2 nodes into parent node.\n",
      "> Parent node id: 405ee8b1-3cc3-4d84-ab0e-c5ee4a831df7.\n",
      "> Parent node text: Projects\n",
      "Before\n",
      "2020:\n",
      "●\n",
      "Successfully\n",
      "completed\n",
      "an\n",
      "Emotionally\n",
      "Aware\n",
      "personal\n",
      "assistant\n",
      "using\n",
      "a\n",
      "Re...\n",
      "\n",
      "> Merging 2 nodes into parent node.\n",
      "> Parent node id: d805904d-8c8e-4e53-9cfa-0989486cbc63.\n",
      "> Parent node text: ●\n",
      "Contract\n",
      "and\n",
      "Invoice\n",
      "Automation(Product):\n",
      "Developed\n",
      "a\n",
      "tool\n",
      "to\n",
      "automate\n",
      "contract\n",
      "and\n",
      "invoice\n",
      "pro...\n",
      "\n",
      "> Merging 2 nodes into parent node.\n",
      "> Parent node id: 405ee8b1-3cc3-4d84-ab0e-c5ee4a831df7.\n",
      "> Parent node text: Projects\n",
      "Before\n",
      "2020:\n",
      "●\n",
      "Successfully\n",
      "completed\n",
      "an\n",
      "Emotionally\n",
      "Aware\n",
      "personal\n",
      "assistant\n",
      "using\n",
      "a\n",
      "Re...\n",
      "\n",
      "> Merging 2 nodes into parent node.\n",
      "> Parent node id: 2bd59080-0ff0-40be-8cf6-028e69652819.\n",
      "> Parent node text: ●\n",
      "State\n",
      "level\n",
      "Chess\n",
      "player\n",
      "in\n",
      "the\n",
      "U-16\n",
      "category.\n",
      "Skills\n",
      "Technical\n",
      "Skills\n",
      ":\n",
      "Natural\n",
      "Language\n",
      "Proce...\n",
      "\n",
      "> Merging 2 nodes into parent node.\n",
      "> Parent node id: 405ee8b1-3cc3-4d84-ab0e-c5ee4a831df7.\n",
      "> Parent node text: Projects\n",
      "Before\n",
      "2020:\n",
      "●\n",
      "Successfully\n",
      "completed\n",
      "an\n",
      "Emotionally\n",
      "Aware\n",
      "personal\n",
      "assistant\n",
      "using\n",
      "a\n",
      "Re...\n",
      "\n"
     ]
    }
   ],
   "source": [
    "# Recording responses for all questions.\n",
    "all_responses_automerging = []\n",
    "for question in eval_questions:\n",
    "        response = automerging_query_engine.query(question)\n",
    "        all_responses_automerging.append(response)"
   ]
  },
  {
   "cell_type": "code",
   "execution_count": 45,
   "metadata": {},
   "outputs": [],
   "source": [
    "# Taking a look at results from all the approaches.\n",
    "responses_df = pd.DataFrame({\"Sample_Questions\":eval_questions,\n",
    "                             \"Model_Responses_Basic\":all_responses,\n",
    "                              \"Model_Responses_Sentence_Window\":all_responses_sentence_window,\n",
    "                              \"Model_ResponseS_Auto_Merging\":all_responses_automerging})"
   ]
  },
  {
   "cell_type": "code",
   "execution_count": 46,
   "metadata": {},
   "outputs": [
    {
     "data": {
      "text/html": [
       "<div>\n",
       "<style scoped>\n",
       "    .dataframe tbody tr th:only-of-type {\n",
       "        vertical-align: middle;\n",
       "    }\n",
       "\n",
       "    .dataframe tbody tr th {\n",
       "        vertical-align: top;\n",
       "    }\n",
       "\n",
       "    .dataframe thead th {\n",
       "        text-align: right;\n",
       "    }\n",
       "</style>\n",
       "<table border=\"1\" class=\"dataframe\">\n",
       "  <thead>\n",
       "    <tr style=\"text-align: right;\">\n",
       "      <th></th>\n",
       "      <th>Sample_Questions</th>\n",
       "      <th>Model_Responses_Basic</th>\n",
       "      <th>Model_Responses_Sentence_Window</th>\n",
       "      <th>Model_ResponseS_Auto_Merging</th>\n",
       "    </tr>\n",
       "  </thead>\n",
       "  <tbody>\n",
       "    <tr>\n",
       "      <th>0</th>\n",
       "      <td>What work did Faizan do at Finetune Learning?</td>\n",
       "      <td>Faizan Khan worked as an AI &amp; ML Applied Scien...</td>\n",
       "      <td>Faizan Khan worked as an AI &amp; ML Applied Scien...</td>\n",
       "      <td>Faizan implemented machine-learned models for ...</td>\n",
       "    </tr>\n",
       "    <tr>\n",
       "      <th>1</th>\n",
       "      <td>What were the important courses Faizan did at ...</td>\n",
       "      <td>Faizan Khan completed the following important ...</td>\n",
       "      <td>Faizan Khan took the following important cours...</td>\n",
       "      <td>Faizan did the following important courses at ...</td>\n",
       "    </tr>\n",
       "    <tr>\n",
       "      <th>2</th>\n",
       "      <td>What are Faizan's top 5 skills?</td>\n",
       "      <td>Faizan's top 5 skills are Natural Language Pro...</td>\n",
       "      <td>Faizan's top 5 skills are Natural Language Pro...</td>\n",
       "      <td>Faizan's top 5 skills are Natural Language Pro...</td>\n",
       "    </tr>\n",
       "    <tr>\n",
       "      <th>3</th>\n",
       "      <td>Rate Faizan's Natural Language Processing expe...</td>\n",
       "      <td>Faizan's Natural Language Processing experienc...</td>\n",
       "      <td>Faizan's Natural Language Processing experienc...</td>\n",
       "      <td>Faizan's Natural Language Processing experienc...</td>\n",
       "    </tr>\n",
       "    <tr>\n",
       "      <th>4</th>\n",
       "      <td>Does Faizan have any experience coding Deep Le...</td>\n",
       "      <td>Yes, Faizan has experience coding Deep Learnin...</td>\n",
       "      <td>Yes, Faizan has experience coding Deep Learnin...</td>\n",
       "      <td>Yes, Faizan has experience coding Deep Learnin...</td>\n",
       "    </tr>\n",
       "    <tr>\n",
       "      <th>5</th>\n",
       "      <td>What is Faizan's most impressive project?</td>\n",
       "      <td>Faizan's most impressive project is the develo...</td>\n",
       "      <td>Faizan's most impressive project is the implem...</td>\n",
       "      <td>Faizan's most impressive project is the develo...</td>\n",
       "    </tr>\n",
       "    <tr>\n",
       "      <th>6</th>\n",
       "      <td>Does Faizan have any experience in Search? If ...</td>\n",
       "      <td>Faizan Khan has experience in search. He has i...</td>\n",
       "      <td>Yes, Faizan Khan has experience in search. He ...</td>\n",
       "      <td>Yes, Faizan has experience in Search. His expe...</td>\n",
       "    </tr>\n",
       "    <tr>\n",
       "      <th>7</th>\n",
       "      <td>What is the right AI job for Faizan?</td>\n",
       "      <td>Based on the context information provided, the...</td>\n",
       "      <td>The right AI job for Faizan would be a positio...</td>\n",
       "      <td>The right AI job for Faizan would be a positio...</td>\n",
       "    </tr>\n",
       "  </tbody>\n",
       "</table>\n",
       "</div>"
      ],
      "text/plain": [
       "                                    Sample_Questions  \\\n",
       "0      What work did Faizan do at Finetune Learning?   \n",
       "1  What were the important courses Faizan did at ...   \n",
       "2                    What are Faizan's top 5 skills?   \n",
       "3  Rate Faizan's Natural Language Processing expe...   \n",
       "4  Does Faizan have any experience coding Deep Le...   \n",
       "5          What is Faizan's most impressive project?   \n",
       "6  Does Faizan have any experience in Search? If ...   \n",
       "7               What is the right AI job for Faizan?   \n",
       "\n",
       "                               Model_Responses_Basic  \\\n",
       "0  Faizan Khan worked as an AI & ML Applied Scien...   \n",
       "1  Faizan Khan completed the following important ...   \n",
       "2  Faizan's top 5 skills are Natural Language Pro...   \n",
       "3  Faizan's Natural Language Processing experienc...   \n",
       "4  Yes, Faizan has experience coding Deep Learnin...   \n",
       "5  Faizan's most impressive project is the develo...   \n",
       "6  Faizan Khan has experience in search. He has i...   \n",
       "7  Based on the context information provided, the...   \n",
       "\n",
       "                     Model_Responses_Sentence_Window  \\\n",
       "0  Faizan Khan worked as an AI & ML Applied Scien...   \n",
       "1  Faizan Khan took the following important cours...   \n",
       "2  Faizan's top 5 skills are Natural Language Pro...   \n",
       "3  Faizan's Natural Language Processing experienc...   \n",
       "4  Yes, Faizan has experience coding Deep Learnin...   \n",
       "5  Faizan's most impressive project is the implem...   \n",
       "6  Yes, Faizan Khan has experience in search. He ...   \n",
       "7  The right AI job for Faizan would be a positio...   \n",
       "\n",
       "                        Model_ResponseS_Auto_Merging  \n",
       "0  Faizan implemented machine-learned models for ...  \n",
       "1  Faizan did the following important courses at ...  \n",
       "2  Faizan's top 5 skills are Natural Language Pro...  \n",
       "3  Faizan's Natural Language Processing experienc...  \n",
       "4  Yes, Faizan has experience coding Deep Learnin...  \n",
       "5  Faizan's most impressive project is the develo...  \n",
       "6  Yes, Faizan has experience in Search. His expe...  \n",
       "7  The right AI job for Faizan would be a positio...  "
      ]
     },
     "execution_count": 46,
     "metadata": {},
     "output_type": "execute_result"
    }
   ],
   "source": [
    "responses_df"
   ]
  },
  {
   "cell_type": "code",
   "execution_count": null,
   "metadata": {},
   "outputs": [],
   "source": []
  }
 ],
 "metadata": {
  "kernelspec": {
   "display_name": "Python 3",
   "language": "python",
   "name": "python3"
  },
  "language_info": {
   "codemirror_mode": {
    "name": "ipython",
    "version": 3
   },
   "file_extension": ".py",
   "mimetype": "text/x-python",
   "name": "python",
   "nbconvert_exporter": "python",
   "pygments_lexer": "ipython3",
   "version": "3.9.6"
  },
  "orig_nbformat": 4,
  "vscode": {
   "interpreter": {
    "hash": "31f2aee4e71d21fbe5cf8b01ff0e069b9275f58929596ceb00d14d90e3e16cd6"
   }
  }
 },
 "nbformat": 4,
 "nbformat_minor": 2
}
